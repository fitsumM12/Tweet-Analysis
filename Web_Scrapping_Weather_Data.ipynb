{
  "nbformat": 4,
  "nbformat_minor": 0,
  "metadata": {
    "colab": {
      "provenance": [],
      "authorship_tag": "ABX9TyOgEbcl0ohyKXKt1Xexh14V",
      "include_colab_link": true
    },
    "kernelspec": {
      "name": "python3",
      "display_name": "Python 3"
    },
    "language_info": {
      "name": "python"
    }
  },
  "cells": [
    {
      "cell_type": "markdown",
      "metadata": {
        "id": "view-in-github",
        "colab_type": "text"
      },
      "source": [
        "<a href=\"https://colab.research.google.com/github/fitsumM12/Tweet-Analysis/blob/main/Web_Scrapping_Weather_Data.ipynb\" target=\"_parent\"><img src=\"https://colab.research.google.com/assets/colab-badge.svg\" alt=\"Open In Colab\"/></a>"
      ]
    },
    {
      "cell_type": "code",
      "execution_count": 1,
      "metadata": {
        "id": "GiYHXoKDyjZu"
      },
      "outputs": [],
      "source": [
        "# Import the libraries\n",
        "import requests\n",
        "from bs4 import BeautifulSoup"
      ]
    },
    {
      "cell_type": "code",
      "source": [
        "# website that is gonna be scrapped\n",
        "url = 'https://www.weather.com/weather/today/l/USNY0996:1:US'"
      ],
      "metadata": {
        "id": "urMgcVBQyuw_"
      },
      "execution_count": 3,
      "outputs": []
    },
    {
      "cell_type": "code",
      "source": [
        "# Send the request to the website and get the html content\n",
        "response = requests.get(url)\n",
        "content = response.content"
      ],
      "metadata": {
        "id": "Rqf-NMX2y2KL"
      },
      "execution_count": 4,
      "outputs": []
    },
    {
      "cell_type": "code",
      "source": [
        "# Parse html\n",
        "soup = BeautifulSoup(content, 'html.parser')"
      ],
      "metadata": {
        "id": "BgEgnOFhzCWr"
      },
      "execution_count": 6,
      "outputs": []
    },
    {
      "cell_type": "code",
      "source": [
        "temp = soup.find('span',{'data-testid':'TemperatureValue'}).text\n",
        "description = soup.find('div',{'data-testid':'wxPhrase'}).text"
      ],
      "metadata": {
        "id": "yMKfvXXDzDeW"
      },
      "execution_count": 8,
      "outputs": []
    },
    {
      "cell_type": "code",
      "source": [
        "# print scrapped dataset\n",
        "print(temp)"
      ],
      "metadata": {
        "colab": {
          "base_uri": "https://localhost:8080/"
        },
        "id": "MYIjSqtdzRfU",
        "outputId": "0e76241c-9f94-4bfd-9d52-3530547c76d3"
      },
      "execution_count": 9,
      "outputs": [
        {
          "output_type": "stream",
          "name": "stdout",
          "text": [
            "69°\n"
          ]
        }
      ]
    },
    {
      "cell_type": "code",
      "source": [
        "print(description)"
      ],
      "metadata": {
        "colab": {
          "base_uri": "https://localhost:8080/"
        },
        "id": "SVL1Xsr5ztyt",
        "outputId": "b3bb036c-ef29-4566-bfb1-76307dc28f3b"
      },
      "execution_count": 10,
      "outputs": [
        {
          "output_type": "stream",
          "name": "stdout",
          "text": [
            "Sunny\n"
          ]
        }
      ]
    },
    {
      "cell_type": "code",
      "source": [],
      "metadata": {
        "id": "Xd94vfyCz0eF"
      },
      "execution_count": null,
      "outputs": []
    }
  ]
}